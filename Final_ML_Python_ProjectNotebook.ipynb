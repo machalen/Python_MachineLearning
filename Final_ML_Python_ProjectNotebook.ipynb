{
    "cells": [
        {
            "metadata": {
                "button": false,
                "new_sheet": false,
                "run_control": {
                    "read_only": false
                }
            },
            "cell_type": "markdown",
            "source": "<a href=\"https://www.bigdatauniversity.com\"><img src=\"https://ibm.box.com/shared/static/cw2c7r3o20w9zn8gkecaeyjhgw3xdgbj.png\" width=\"400\" align=\"center\"></a>\n\n<h1 align=\"center\"><font size=\"5\">Classification with Python</font></h1>"
        },
        {
            "metadata": {
                "button": false,
                "new_sheet": false,
                "run_control": {
                    "read_only": false
                }
            },
            "cell_type": "markdown",
            "source": "In this notebook we try to practice all the classification algorithms that we learned in this course.\n\nWe load a dataset using Pandas library, and apply the following algorithms, and find the best one for this specific dataset by accuracy evaluation methods.\n\nLets first load required libraries:"
        },
        {
            "metadata": {
                "button": false,
                "new_sheet": false,
                "run_control": {
                    "read_only": false
                }
            },
            "cell_type": "code",
            "source": "import itertools\nimport numpy as np\nimport matplotlib.pyplot as plt\nfrom matplotlib.ticker import NullFormatter\nimport pandas as pd\nimport numpy as np\nimport matplotlib.ticker as ticker\nfrom sklearn import preprocessing\nfrom sklearn import metrics\nimport warnings\n%matplotlib inline",
            "execution_count": 70,
            "outputs": []
        },
        {
            "metadata": {
                "button": false,
                "new_sheet": false,
                "run_control": {
                    "read_only": false
                }
            },
            "cell_type": "markdown",
            "source": "### About dataset"
        },
        {
            "metadata": {
                "button": false,
                "new_sheet": false,
                "run_control": {
                    "read_only": false
                }
            },
            "cell_type": "markdown",
            "source": "This dataset is about past loans. The __Loan_train.csv__ data set includes details of 346 customers whose loan are already paid off or defaulted. It includes following fields:\n\n| Field          | Description                                                                           |\n|----------------|---------------------------------------------------------------------------------------|\n| Loan_status    | Whether a loan is paid off on in collection                                           |\n| Principal      | Basic principal loan amount at the                                                    |\n| Terms          | Origination terms which can be weekly (7 days), biweekly, and monthly payoff schedule |\n| Effective_date | When the loan got originated and took effects                                         |\n| Due_date       | Since it\u2019s one-time payoff schedule, each loan has one single due date                |\n| Age            | Age of applicant                                                                      |\n| Education      | Education of applicant                                                                |\n| Gender         | The gender of applicant                                                               |"
        },
        {
            "metadata": {
                "button": false,
                "new_sheet": false,
                "run_control": {
                    "read_only": false
                }
            },
            "cell_type": "markdown",
            "source": "Lets download the dataset"
        },
        {
            "metadata": {
                "button": false,
                "new_sheet": false,
                "run_control": {
                    "read_only": false
                }
            },
            "cell_type": "code",
            "source": "!wget -O loan_train.csv https://s3-api.us-geo.objectstorage.softlayer.net/cf-courses-data/CognitiveClass/ML0101ENv3/labs/loan_train.csv",
            "execution_count": 71,
            "outputs": [
                {
                    "output_type": "stream",
                    "text": "--2020-04-28 08:17:27--  https://s3-api.us-geo.objectstorage.softlayer.net/cf-courses-data/CognitiveClass/ML0101ENv3/labs/loan_train.csv\nResolving s3-api.us-geo.objectstorage.softlayer.net (s3-api.us-geo.objectstorage.softlayer.net)... 67.228.254.196\nConnecting to s3-api.us-geo.objectstorage.softlayer.net (s3-api.us-geo.objectstorage.softlayer.net)|67.228.254.196|:443... connected.\nHTTP request sent, awaiting response... 200 OK\nLength: 23101 (23K) [text/csv]\nSaving to: \u2018loan_train.csv\u2019\n\n100%[======================================>] 23,101      --.-K/s   in 0.002s  \n\n2020-04-28 08:17:27 (12.4 MB/s) - \u2018loan_train.csv\u2019 saved [23101/23101]\n\n",
                    "name": "stdout"
                }
            ]
        },
        {
            "metadata": {
                "button": false,
                "new_sheet": false,
                "run_control": {
                    "read_only": false
                }
            },
            "cell_type": "markdown",
            "source": "### Load Data From CSV File  "
        },
        {
            "metadata": {
                "button": false,
                "new_sheet": false,
                "run_control": {
                    "read_only": false
                }
            },
            "cell_type": "code",
            "source": "df = pd.read_csv('loan_train.csv')\ndf.head()",
            "execution_count": 72,
            "outputs": [
                {
                    "output_type": "execute_result",
                    "execution_count": 72,
                    "data": {
                        "text/plain": "   Unnamed: 0  Unnamed: 0.1 loan_status  Principal  terms effective_date  \\\n0           0             0     PAIDOFF       1000     30       9/8/2016   \n1           2             2     PAIDOFF       1000     30       9/8/2016   \n2           3             3     PAIDOFF       1000     15       9/8/2016   \n3           4             4     PAIDOFF       1000     30       9/9/2016   \n4           6             6     PAIDOFF       1000     30       9/9/2016   \n\n    due_date  age             education  Gender  \n0  10/7/2016   45  High School or Below    male  \n1  10/7/2016   33              Bechalor  female  \n2  9/22/2016   27               college    male  \n3  10/8/2016   28               college  female  \n4  10/8/2016   29               college    male  ",
                        "text/html": "<div>\n<style scoped>\n    .dataframe tbody tr th:only-of-type {\n        vertical-align: middle;\n    }\n\n    .dataframe tbody tr th {\n        vertical-align: top;\n    }\n\n    .dataframe thead th {\n        text-align: right;\n    }\n</style>\n<table border=\"1\" class=\"dataframe\">\n  <thead>\n    <tr style=\"text-align: right;\">\n      <th></th>\n      <th>Unnamed: 0</th>\n      <th>Unnamed: 0.1</th>\n      <th>loan_status</th>\n      <th>Principal</th>\n      <th>terms</th>\n      <th>effective_date</th>\n      <th>due_date</th>\n      <th>age</th>\n      <th>education</th>\n      <th>Gender</th>\n    </tr>\n  </thead>\n  <tbody>\n    <tr>\n      <th>0</th>\n      <td>0</td>\n      <td>0</td>\n      <td>PAIDOFF</td>\n      <td>1000</td>\n      <td>30</td>\n      <td>9/8/2016</td>\n      <td>10/7/2016</td>\n      <td>45</td>\n      <td>High School or Below</td>\n      <td>male</td>\n    </tr>\n    <tr>\n      <th>1</th>\n      <td>2</td>\n      <td>2</td>\n      <td>PAIDOFF</td>\n      <td>1000</td>\n      <td>30</td>\n      <td>9/8/2016</td>\n      <td>10/7/2016</td>\n      <td>33</td>\n      <td>Bechalor</td>\n      <td>female</td>\n    </tr>\n    <tr>\n      <th>2</th>\n      <td>3</td>\n      <td>3</td>\n      <td>PAIDOFF</td>\n      <td>1000</td>\n      <td>15</td>\n      <td>9/8/2016</td>\n      <td>9/22/2016</td>\n      <td>27</td>\n      <td>college</td>\n      <td>male</td>\n    </tr>\n    <tr>\n      <th>3</th>\n      <td>4</td>\n      <td>4</td>\n      <td>PAIDOFF</td>\n      <td>1000</td>\n      <td>30</td>\n      <td>9/9/2016</td>\n      <td>10/8/2016</td>\n      <td>28</td>\n      <td>college</td>\n      <td>female</td>\n    </tr>\n    <tr>\n      <th>4</th>\n      <td>6</td>\n      <td>6</td>\n      <td>PAIDOFF</td>\n      <td>1000</td>\n      <td>30</td>\n      <td>9/9/2016</td>\n      <td>10/8/2016</td>\n      <td>29</td>\n      <td>college</td>\n      <td>male</td>\n    </tr>\n  </tbody>\n</table>\n</div>"
                    },
                    "metadata": {}
                }
            ]
        },
        {
            "metadata": {},
            "cell_type": "code",
            "source": "df.shape",
            "execution_count": 73,
            "outputs": [
                {
                    "output_type": "execute_result",
                    "execution_count": 73,
                    "data": {
                        "text/plain": "(346, 10)"
                    },
                    "metadata": {}
                }
            ]
        },
        {
            "metadata": {
                "button": false,
                "new_sheet": false,
                "run_control": {
                    "read_only": false
                }
            },
            "cell_type": "markdown",
            "source": "### Convert to date time object "
        },
        {
            "metadata": {
                "button": false,
                "new_sheet": false,
                "run_control": {
                    "read_only": false
                }
            },
            "cell_type": "code",
            "source": "df['due_date'] = pd.to_datetime(df['due_date'])\ndf['effective_date'] = pd.to_datetime(df['effective_date'])\ndf.head()",
            "execution_count": 74,
            "outputs": [
                {
                    "output_type": "execute_result",
                    "execution_count": 74,
                    "data": {
                        "text/plain": "   Unnamed: 0  Unnamed: 0.1 loan_status  Principal  terms effective_date  \\\n0           0             0     PAIDOFF       1000     30     2016-09-08   \n1           2             2     PAIDOFF       1000     30     2016-09-08   \n2           3             3     PAIDOFF       1000     15     2016-09-08   \n3           4             4     PAIDOFF       1000     30     2016-09-09   \n4           6             6     PAIDOFF       1000     30     2016-09-09   \n\n    due_date  age             education  Gender  \n0 2016-10-07   45  High School or Below    male  \n1 2016-10-07   33              Bechalor  female  \n2 2016-09-22   27               college    male  \n3 2016-10-08   28               college  female  \n4 2016-10-08   29               college    male  ",
                        "text/html": "<div>\n<style scoped>\n    .dataframe tbody tr th:only-of-type {\n        vertical-align: middle;\n    }\n\n    .dataframe tbody tr th {\n        vertical-align: top;\n    }\n\n    .dataframe thead th {\n        text-align: right;\n    }\n</style>\n<table border=\"1\" class=\"dataframe\">\n  <thead>\n    <tr style=\"text-align: right;\">\n      <th></th>\n      <th>Unnamed: 0</th>\n      <th>Unnamed: 0.1</th>\n      <th>loan_status</th>\n      <th>Principal</th>\n      <th>terms</th>\n      <th>effective_date</th>\n      <th>due_date</th>\n      <th>age</th>\n      <th>education</th>\n      <th>Gender</th>\n    </tr>\n  </thead>\n  <tbody>\n    <tr>\n      <th>0</th>\n      <td>0</td>\n      <td>0</td>\n      <td>PAIDOFF</td>\n      <td>1000</td>\n      <td>30</td>\n      <td>2016-09-08</td>\n      <td>2016-10-07</td>\n      <td>45</td>\n      <td>High School or Below</td>\n      <td>male</td>\n    </tr>\n    <tr>\n      <th>1</th>\n      <td>2</td>\n      <td>2</td>\n      <td>PAIDOFF</td>\n      <td>1000</td>\n      <td>30</td>\n      <td>2016-09-08</td>\n      <td>2016-10-07</td>\n      <td>33</td>\n      <td>Bechalor</td>\n      <td>female</td>\n    </tr>\n    <tr>\n      <th>2</th>\n      <td>3</td>\n      <td>3</td>\n      <td>PAIDOFF</td>\n      <td>1000</td>\n      <td>15</td>\n      <td>2016-09-08</td>\n      <td>2016-09-22</td>\n      <td>27</td>\n      <td>college</td>\n      <td>male</td>\n    </tr>\n    <tr>\n      <th>3</th>\n      <td>4</td>\n      <td>4</td>\n      <td>PAIDOFF</td>\n      <td>1000</td>\n      <td>30</td>\n      <td>2016-09-09</td>\n      <td>2016-10-08</td>\n      <td>28</td>\n      <td>college</td>\n      <td>female</td>\n    </tr>\n    <tr>\n      <th>4</th>\n      <td>6</td>\n      <td>6</td>\n      <td>PAIDOFF</td>\n      <td>1000</td>\n      <td>30</td>\n      <td>2016-09-09</td>\n      <td>2016-10-08</td>\n      <td>29</td>\n      <td>college</td>\n      <td>male</td>\n    </tr>\n  </tbody>\n</table>\n</div>"
                    },
                    "metadata": {}
                }
            ]
        },
        {
            "metadata": {
                "button": false,
                "new_sheet": false,
                "run_control": {
                    "read_only": false
                }
            },
            "cell_type": "markdown",
            "source": "# Data visualization and pre-processing\n\n"
        },
        {
            "metadata": {
                "button": false,
                "new_sheet": false,
                "run_control": {
                    "read_only": false
                }
            },
            "cell_type": "markdown",
            "source": "Let\u2019s see how many of each class is in our data set "
        },
        {
            "metadata": {
                "button": false,
                "new_sheet": false,
                "run_control": {
                    "read_only": false
                }
            },
            "cell_type": "code",
            "source": "df['loan_status'].value_counts()",
            "execution_count": 75,
            "outputs": [
                {
                    "output_type": "execute_result",
                    "execution_count": 75,
                    "data": {
                        "text/plain": "PAIDOFF       260\nCOLLECTION     86\nName: loan_status, dtype: int64"
                    },
                    "metadata": {}
                }
            ]
        },
        {
            "metadata": {
                "button": false,
                "new_sheet": false,
                "run_control": {
                    "read_only": false
                }
            },
            "cell_type": "markdown",
            "source": "260 people have paid off the loan on time while 86 have gone into collection \n"
        },
        {
            "metadata": {},
            "cell_type": "markdown",
            "source": "Lets plot some columns to underestand data better:"
        },
        {
            "metadata": {},
            "cell_type": "code",
            "source": "# notice: installing seaborn might takes a few minutes\n!conda install -c anaconda seaborn -y",
            "execution_count": 76,
            "outputs": [
                {
                    "output_type": "stream",
                    "text": "Solving environment: done\n\n# All requested packages already installed.\n\n",
                    "name": "stdout"
                }
            ]
        },
        {
            "metadata": {},
            "cell_type": "code",
            "source": "import seaborn as sns\n\nbins = np.linspace(df.Principal.min(), df.Principal.max(), 10)\ng = sns.FacetGrid(df, col=\"Gender\", hue=\"loan_status\", palette=\"Set1\", col_wrap=2)\ng.map(plt.hist, 'Principal', bins=bins, ec=\"k\")\n\ng.axes[-1].legend()\nplt.show()",
            "execution_count": 77,
            "outputs": [
                {
                    "output_type": "display_data",
                    "data": {
                        "text/plain": "<Figure size 432x216 with 2 Axes>",
                        "image/png": "[encoded data removed]"
                    },
                    "metadata": {
                        "needs_background": "light"
                    }
                }
            ]
        },
        {
            "metadata": {
                "button": false,
                "new_sheet": false,
                "run_control": {
                    "read_only": false
                }
            },
            "cell_type": "code",
            "source": "bins = np.linspace(df.age.min(), df.age.max(), 10)\ng = sns.FacetGrid(df, col=\"Gender\", hue=\"loan_status\", palette=\"Set1\", col_wrap=2)\ng.map(plt.hist, 'age', bins=bins, ec=\"k\")\n\ng.axes[-1].legend()\nplt.show()",
            "execution_count": 78,
            "outputs": [
                {
                    "output_type": "display_data",
                    "data": {
                        "text/plain": "<Figure size 432x216 with 2 Axes>",
                        "image/png": "[encoded data removed]"
                    },
                    "metadata": {
                        "needs_background": "light"
                    }
                }
            ]
        },
        {
            "metadata": {
                "button": false,
                "new_sheet": false,
                "run_control": {
                    "read_only": false
                }
            },
            "cell_type": "markdown",
            "source": "# Pre-processing:  Feature selection/extraction"
        },
        {
            "metadata": {
                "button": false,
                "new_sheet": false,
                "run_control": {
                    "read_only": false
                }
            },
            "cell_type": "markdown",
            "source": "### Lets look at the day of the week people get the loan "
        },
        {
            "metadata": {
                "button": false,
                "new_sheet": false,
                "run_control": {
                    "read_only": false
                }
            },
            "cell_type": "code",
            "source": "df['dayofweek'] = df['effective_date'].dt.dayofweek\nbins = np.linspace(df.dayofweek.min(), df.dayofweek.max(), 10)\ng = sns.FacetGrid(df, col=\"Gender\", hue=\"loan_status\", palette=\"Set1\", col_wrap=2)\ng.map(plt.hist, 'dayofweek', bins=bins, ec=\"k\")\ng.axes[-1].legend()\nplt.show()\n",
            "execution_count": 79,
            "outputs": [
                {
                    "output_type": "display_data",
                    "data": {
                        "text/plain": "<Figure size 432x216 with 2 Axes>",
                        "image/png": "[encoded data removed]"
                    },
                    "metadata": {
                        "needs_background": "light"
                    }
                }
            ]
        },
        {
            "metadata": {
                "button": false,
                "new_sheet": false,
                "run_control": {
                    "read_only": false
                }
            },
            "cell_type": "markdown",
            "source": "We see that people who get the loan at the end of the week dont pay it off, so lets use Feature binarization to set a threshold values less then day 4 "
        },
        {
            "metadata": {
                "button": false,
                "new_sheet": false,
                "run_control": {
                    "read_only": false
                }
            },
            "cell_type": "code",
            "source": "df['weekend'] = df['dayofweek'].apply(lambda x: 1 if (x>3)  else 0)\ndf.head()",
            "execution_count": 80,
            "outputs": [
                {
                    "output_type": "execute_result",
                    "execution_count": 80,
                    "data": {
                        "text/plain": "   Unnamed: 0  Unnamed: 0.1 loan_status  Principal  terms effective_date  \\\n0           0             0     PAIDOFF       1000     30     2016-09-08   \n1           2             2     PAIDOFF       1000     30     2016-09-08   \n2           3             3     PAIDOFF       1000     15     2016-09-08   \n3           4             4     PAIDOFF       1000     30     2016-09-09   \n4           6             6     PAIDOFF       1000     30     2016-09-09   \n\n    due_date  age             education  Gender  dayofweek  weekend  \n0 2016-10-07   45  High School or Below    male          3        0  \n1 2016-10-07   33              Bechalor  female          3        0  \n2 2016-09-22   27               college    male          3        0  \n3 2016-10-08   28               college  female          4        1  \n4 2016-10-08   29               college    male          4        1  ",
                        "text/html": "<div>\n<style scoped>\n    .dataframe tbody tr th:only-of-type {\n        vertical-align: middle;\n    }\n\n    .dataframe tbody tr th {\n        vertical-align: top;\n    }\n\n    .dataframe thead th {\n        text-align: right;\n    }\n</style>\n<table border=\"1\" class=\"dataframe\">\n  <thead>\n    <tr style=\"text-align: right;\">\n      <th></th>\n      <th>Unnamed: 0</th>\n      <th>Unnamed: 0.1</th>\n      <th>loan_status</th>\n      <th>Principal</th>\n      <th>terms</th>\n      <th>effective_date</th>\n      <th>due_date</th>\n      <th>age</th>\n      <th>education</th>\n      <th>Gender</th>\n      <th>dayofweek</th>\n      <th>weekend</th>\n    </tr>\n  </thead>\n  <tbody>\n    <tr>\n      <th>0</th>\n      <td>0</td>\n      <td>0</td>\n      <td>PAIDOFF</td>\n      <td>1000</td>\n      <td>30</td>\n      <td>2016-09-08</td>\n      <td>2016-10-07</td>\n      <td>45</td>\n      <td>High School or Below</td>\n      <td>male</td>\n      <td>3</td>\n      <td>0</td>\n    </tr>\n    <tr>\n      <th>1</th>\n      <td>2</td>\n      <td>2</td>\n      <td>PAIDOFF</td>\n      <td>1000</td>\n      <td>30</td>\n      <td>2016-09-08</td>\n      <td>2016-10-07</td>\n      <td>33</td>\n      <td>Bechalor</td>\n      <td>female</td>\n      <td>3</td>\n      <td>0</td>\n    </tr>\n    <tr>\n      <th>2</th>\n      <td>3</td>\n      <td>3</td>\n      <td>PAIDOFF</td>\n      <td>1000</td>\n      <td>15</td>\n      <td>2016-09-08</td>\n      <td>2016-09-22</td>\n      <td>27</td>\n      <td>college</td>\n      <td>male</td>\n      <td>3</td>\n      <td>0</td>\n    </tr>\n    <tr>\n      <th>3</th>\n      <td>4</td>\n      <td>4</td>\n      <td>PAIDOFF</td>\n      <td>1000</td>\n      <td>30</td>\n      <td>2016-09-09</td>\n      <td>2016-10-08</td>\n      <td>28</td>\n      <td>college</td>\n      <td>female</td>\n      <td>4</td>\n      <td>1</td>\n    </tr>\n    <tr>\n      <th>4</th>\n      <td>6</td>\n      <td>6</td>\n      <td>PAIDOFF</td>\n      <td>1000</td>\n      <td>30</td>\n      <td>2016-09-09</td>\n      <td>2016-10-08</td>\n      <td>29</td>\n      <td>college</td>\n      <td>male</td>\n      <td>4</td>\n      <td>1</td>\n    </tr>\n  </tbody>\n</table>\n</div>"
                    },
                    "metadata": {}
                }
            ]
        },
        {
            "metadata": {
                "button": false,
                "new_sheet": false,
                "run_control": {
                    "read_only": false
                }
            },
            "cell_type": "markdown",
            "source": "## Convert Categorical features to numerical values"
        },
        {
            "metadata": {
                "button": false,
                "new_sheet": false,
                "run_control": {
                    "read_only": false
                }
            },
            "cell_type": "markdown",
            "source": "Lets look at gender:"
        },
        {
            "metadata": {
                "button": false,
                "new_sheet": false,
                "run_control": {
                    "read_only": false
                }
            },
            "cell_type": "code",
            "source": "df.groupby(['Gender'])['loan_status'].value_counts(normalize=True)",
            "execution_count": 81,
            "outputs": [
                {
                    "output_type": "execute_result",
                    "execution_count": 81,
                    "data": {
                        "text/plain": "Gender  loan_status\nfemale  PAIDOFF        0.865385\n        COLLECTION     0.134615\nmale    PAIDOFF        0.731293\n        COLLECTION     0.268707\nName: loan_status, dtype: float64"
                    },
                    "metadata": {}
                }
            ]
        },
        {
            "metadata": {
                "button": false,
                "new_sheet": false,
                "run_control": {
                    "read_only": false
                }
            },
            "cell_type": "markdown",
            "source": "86 % of female pay there loans while only 73 % of males pay there loan\n"
        },
        {
            "metadata": {
                "button": false,
                "new_sheet": false,
                "run_control": {
                    "read_only": false
                }
            },
            "cell_type": "markdown",
            "source": "Lets convert male to 0 and female to 1:\n"
        },
        {
            "metadata": {
                "button": false,
                "new_sheet": false,
                "run_control": {
                    "read_only": false
                }
            },
            "cell_type": "code",
            "source": "df['Gender'].replace(to_replace=['male','female'], value=[0,1],inplace=True)\ndf.head()",
            "execution_count": 82,
            "outputs": [
                {
                    "output_type": "execute_result",
                    "execution_count": 82,
                    "data": {
                        "text/plain": "   Unnamed: 0  Unnamed: 0.1 loan_status  Principal  terms effective_date  \\\n0           0             0     PAIDOFF       1000     30     2016-09-08   \n1           2             2     PAIDOFF       1000     30     2016-09-08   \n2           3             3     PAIDOFF       1000     15     2016-09-08   \n3           4             4     PAIDOFF       1000     30     2016-09-09   \n4           6             6     PAIDOFF       1000     30     2016-09-09   \n\n    due_date  age             education  Gender  dayofweek  weekend  \n0 2016-10-07   45  High School or Below       0          3        0  \n1 2016-10-07   33              Bechalor       1          3        0  \n2 2016-09-22   27               college       0          3        0  \n3 2016-10-08   28               college       1          4        1  \n4 2016-10-08   29               college       0          4        1  ",
                        "text/html": "<div>\n<style scoped>\n    .dataframe tbody tr th:only-of-type {\n        vertical-align: middle;\n    }\n\n    .dataframe tbody tr th {\n        vertical-align: top;\n    }\n\n    .dataframe thead th {\n        text-align: right;\n    }\n</style>\n<table border=\"1\" class=\"dataframe\">\n  <thead>\n    <tr style=\"text-align: right;\">\n      <th></th>\n      <th>Unnamed: 0</th>\n      <th>Unnamed: 0.1</th>\n      <th>loan_status</th>\n      <th>Principal</th>\n      <th>terms</th>\n      <th>effective_date</th>\n      <th>due_date</th>\n      <th>age</th>\n      <th>education</th>\n      <th>Gender</th>\n      <th>dayofweek</th>\n      <th>weekend</th>\n    </tr>\n  </thead>\n  <tbody>\n    <tr>\n      <th>0</th>\n      <td>0</td>\n      <td>0</td>\n      <td>PAIDOFF</td>\n      <td>1000</td>\n      <td>30</td>\n      <td>2016-09-08</td>\n      <td>2016-10-07</td>\n      <td>45</td>\n      <td>High School or Below</td>\n      <td>0</td>\n      <td>3</td>\n      <td>0</td>\n    </tr>\n    <tr>\n      <th>1</th>\n      <td>2</td>\n      <td>2</td>\n      <td>PAIDOFF</td>\n      <td>1000</td>\n      <td>30</td>\n      <td>2016-09-08</td>\n      <td>2016-10-07</td>\n      <td>33</td>\n      <td>Bechalor</td>\n      <td>1</td>\n      <td>3</td>\n      <td>0</td>\n    </tr>\n    <tr>\n      <th>2</th>\n      <td>3</td>\n      <td>3</td>\n      <td>PAIDOFF</td>\n      <td>1000</td>\n      <td>15</td>\n      <td>2016-09-08</td>\n      <td>2016-09-22</td>\n      <td>27</td>\n      <td>college</td>\n      <td>0</td>\n      <td>3</td>\n      <td>0</td>\n    </tr>\n    <tr>\n      <th>3</th>\n      <td>4</td>\n      <td>4</td>\n      <td>PAIDOFF</td>\n      <td>1000</td>\n      <td>30</td>\n      <td>2016-09-09</td>\n      <td>2016-10-08</td>\n      <td>28</td>\n      <td>college</td>\n      <td>1</td>\n      <td>4</td>\n      <td>1</td>\n    </tr>\n    <tr>\n      <th>4</th>\n      <td>6</td>\n      <td>6</td>\n      <td>PAIDOFF</td>\n      <td>1000</td>\n      <td>30</td>\n      <td>2016-09-09</td>\n      <td>2016-10-08</td>\n      <td>29</td>\n      <td>college</td>\n      <td>0</td>\n      <td>4</td>\n      <td>1</td>\n    </tr>\n  </tbody>\n</table>\n</div>"
                    },
                    "metadata": {}
                }
            ]
        },
        {
            "metadata": {
                "button": false,
                "new_sheet": false,
                "run_control": {
                    "read_only": false
                }
            },
            "cell_type": "markdown",
            "source": "## One Hot Encoding  \n#### How about education?"
        },
        {
            "metadata": {
                "button": false,
                "new_sheet": false,
                "run_control": {
                    "read_only": false
                }
            },
            "cell_type": "code",
            "source": "df.groupby(['education'])['loan_status'].value_counts(normalize=True)",
            "execution_count": 83,
            "outputs": [
                {
                    "output_type": "execute_result",
                    "execution_count": 83,
                    "data": {
                        "text/plain": "education             loan_status\nBechalor              PAIDOFF        0.750000\n                      COLLECTION     0.250000\nHigh School or Below  PAIDOFF        0.741722\n                      COLLECTION     0.258278\nMaster or Above       COLLECTION     0.500000\n                      PAIDOFF        0.500000\ncollege               PAIDOFF        0.765101\n                      COLLECTION     0.234899\nName: loan_status, dtype: float64"
                    },
                    "metadata": {}
                }
            ]
        },
        {
            "metadata": {
                "button": false,
                "new_sheet": false,
                "run_control": {
                    "read_only": false
                }
            },
            "cell_type": "markdown",
            "source": "#### Feature befor One Hot Encoding"
        },
        {
            "metadata": {
                "button": false,
                "new_sheet": false,
                "run_control": {
                    "read_only": false
                }
            },
            "cell_type": "code",
            "source": "df[['Principal','terms','age','Gender','education']].head()",
            "execution_count": 84,
            "outputs": [
                {
                    "output_type": "execute_result",
                    "execution_count": 84,
                    "data": {
                        "text/plain": "   Principal  terms  age  Gender             education\n0       1000     30   45       0  High School or Below\n1       1000     30   33       1              Bechalor\n2       1000     15   27       0               college\n3       1000     30   28       1               college\n4       1000     30   29       0               college",
                        "text/html": "<div>\n<style scoped>\n    .dataframe tbody tr th:only-of-type {\n        vertical-align: middle;\n    }\n\n    .dataframe tbody tr th {\n        vertical-align: top;\n    }\n\n    .dataframe thead th {\n        text-align: right;\n    }\n</style>\n<table border=\"1\" class=\"dataframe\">\n  <thead>\n    <tr style=\"text-align: right;\">\n      <th></th>\n      <th>Principal</th>\n      <th>terms</th>\n      <th>age</th>\n      <th>Gender</th>\n      <th>education</th>\n    </tr>\n  </thead>\n  <tbody>\n    <tr>\n      <th>0</th>\n      <td>1000</td>\n      <td>30</td>\n      <td>45</td>\n      <td>0</td>\n      <td>High School or Below</td>\n    </tr>\n    <tr>\n      <th>1</th>\n      <td>1000</td>\n      <td>30</td>\n      <td>33</td>\n      <td>1</td>\n      <td>Bechalor</td>\n    </tr>\n    <tr>\n      <th>2</th>\n      <td>1000</td>\n      <td>15</td>\n      <td>27</td>\n      <td>0</td>\n      <td>college</td>\n    </tr>\n    <tr>\n      <th>3</th>\n      <td>1000</td>\n      <td>30</td>\n      <td>28</td>\n      <td>1</td>\n      <td>college</td>\n    </tr>\n    <tr>\n      <th>4</th>\n      <td>1000</td>\n      <td>30</td>\n      <td>29</td>\n      <td>0</td>\n      <td>college</td>\n    </tr>\n  </tbody>\n</table>\n</div>"
                    },
                    "metadata": {}
                }
            ]
        },
        {
            "metadata": {
                "button": false,
                "new_sheet": false,
                "run_control": {
                    "read_only": false
                }
            },
            "cell_type": "markdown",
            "source": "#### Use one hot encoding technique to conver categorical varables to binary variables and append them to the feature Data Frame "
        },
        {
            "metadata": {
                "button": false,
                "new_sheet": false,
                "run_control": {
                    "read_only": false
                }
            },
            "cell_type": "code",
            "source": "Feature = df[['Principal','terms','age','Gender','weekend']]\nFeature = pd.concat([Feature,pd.get_dummies(df['education'])], axis=1)\nFeature.drop(['Master or Above'], axis = 1,inplace=True)\nFeature.head()\n",
            "execution_count": 85,
            "outputs": [
                {
                    "output_type": "execute_result",
                    "execution_count": 85,
                    "data": {
                        "text/plain": "   Principal  terms  age  Gender  weekend  Bechalor  High School or Below  \\\n0       1000     30   45       0        0         0                     1   \n1       1000     30   33       1        0         1                     0   \n2       1000     15   27       0        0         0                     0   \n3       1000     30   28       1        1         0                     0   \n4       1000     30   29       0        1         0                     0   \n\n   college  \n0        0  \n1        0  \n2        1  \n3        1  \n4        1  ",
                        "text/html": "<div>\n<style scoped>\n    .dataframe tbody tr th:only-of-type {\n        vertical-align: middle;\n    }\n\n    .dataframe tbody tr th {\n        vertical-align: top;\n    }\n\n    .dataframe thead th {\n        text-align: right;\n    }\n</style>\n<table border=\"1\" class=\"dataframe\">\n  <thead>\n    <tr style=\"text-align: right;\">\n      <th></th>\n      <th>Principal</th>\n      <th>terms</th>\n      <th>age</th>\n      <th>Gender</th>\n      <th>weekend</th>\n      <th>Bechalor</th>\n      <th>High School or Below</th>\n      <th>college</th>\n    </tr>\n  </thead>\n  <tbody>\n    <tr>\n      <th>0</th>\n      <td>1000</td>\n      <td>30</td>\n      <td>45</td>\n      <td>0</td>\n      <td>0</td>\n      <td>0</td>\n      <td>1</td>\n      <td>0</td>\n    </tr>\n    <tr>\n      <th>1</th>\n      <td>1000</td>\n      <td>30</td>\n      <td>33</td>\n      <td>1</td>\n      <td>0</td>\n      <td>1</td>\n      <td>0</td>\n      <td>0</td>\n    </tr>\n    <tr>\n      <th>2</th>\n      <td>1000</td>\n      <td>15</td>\n      <td>27</td>\n      <td>0</td>\n      <td>0</td>\n      <td>0</td>\n      <td>0</td>\n      <td>1</td>\n    </tr>\n    <tr>\n      <th>3</th>\n      <td>1000</td>\n      <td>30</td>\n      <td>28</td>\n      <td>1</td>\n      <td>1</td>\n      <td>0</td>\n      <td>0</td>\n      <td>1</td>\n    </tr>\n    <tr>\n      <th>4</th>\n      <td>1000</td>\n      <td>30</td>\n      <td>29</td>\n      <td>0</td>\n      <td>1</td>\n      <td>0</td>\n      <td>0</td>\n      <td>1</td>\n    </tr>\n  </tbody>\n</table>\n</div>"
                    },
                    "metadata": {}
                }
            ]
        },
        {
            "metadata": {
                "button": false,
                "new_sheet": false,
                "run_control": {
                    "read_only": false
                }
            },
            "cell_type": "markdown",
            "source": "### Feature selection"
        },
        {
            "metadata": {
                "button": false,
                "new_sheet": false,
                "run_control": {
                    "read_only": false
                }
            },
            "cell_type": "markdown",
            "source": "Lets defind feature sets, X:"
        },
        {
            "metadata": {
                "button": false,
                "new_sheet": false,
                "run_control": {
                    "read_only": false
                }
            },
            "cell_type": "code",
            "source": "X = Feature\nX[0:5]",
            "execution_count": 86,
            "outputs": [
                {
                    "output_type": "execute_result",
                    "execution_count": 86,
                    "data": {
                        "text/plain": "   Principal  terms  age  Gender  weekend  Bechalor  High School or Below  \\\n0       1000     30   45       0        0         0                     1   \n1       1000     30   33       1        0         1                     0   \n2       1000     15   27       0        0         0                     0   \n3       1000     30   28       1        1         0                     0   \n4       1000     30   29       0        1         0                     0   \n\n   college  \n0        0  \n1        0  \n2        1  \n3        1  \n4        1  ",
                        "text/html": "<div>\n<style scoped>\n    .dataframe tbody tr th:only-of-type {\n        vertical-align: middle;\n    }\n\n    .dataframe tbody tr th {\n        vertical-align: top;\n    }\n\n    .dataframe thead th {\n        text-align: right;\n    }\n</style>\n<table border=\"1\" class=\"dataframe\">\n  <thead>\n    <tr style=\"text-align: right;\">\n      <th></th>\n      <th>Principal</th>\n      <th>terms</th>\n      <th>age</th>\n      <th>Gender</th>\n      <th>weekend</th>\n      <th>Bechalor</th>\n      <th>High School or Below</th>\n      <th>college</th>\n    </tr>\n  </thead>\n  <tbody>\n    <tr>\n      <th>0</th>\n      <td>1000</td>\n      <td>30</td>\n      <td>45</td>\n      <td>0</td>\n      <td>0</td>\n      <td>0</td>\n      <td>1</td>\n      <td>0</td>\n    </tr>\n    <tr>\n      <th>1</th>\n      <td>1000</td>\n      <td>30</td>\n      <td>33</td>\n      <td>1</td>\n      <td>0</td>\n      <td>1</td>\n      <td>0</td>\n      <td>0</td>\n    </tr>\n    <tr>\n      <th>2</th>\n      <td>1000</td>\n      <td>15</td>\n      <td>27</td>\n      <td>0</td>\n      <td>0</td>\n      <td>0</td>\n      <td>0</td>\n      <td>1</td>\n    </tr>\n    <tr>\n      <th>3</th>\n      <td>1000</td>\n      <td>30</td>\n      <td>28</td>\n      <td>1</td>\n      <td>1</td>\n      <td>0</td>\n      <td>0</td>\n      <td>1</td>\n    </tr>\n    <tr>\n      <th>4</th>\n      <td>1000</td>\n      <td>30</td>\n      <td>29</td>\n      <td>0</td>\n      <td>1</td>\n      <td>0</td>\n      <td>0</td>\n      <td>1</td>\n    </tr>\n  </tbody>\n</table>\n</div>"
                    },
                    "metadata": {}
                }
            ]
        },
        {
            "metadata": {
                "button": false,
                "new_sheet": false,
                "run_control": {
                    "read_only": false
                }
            },
            "cell_type": "markdown",
            "source": "What are our lables?"
        },
        {
            "metadata": {
                "button": false,
                "new_sheet": false,
                "run_control": {
                    "read_only": false
                }
            },
            "cell_type": "code",
            "source": "y = df['loan_status'].values\ny[0:5]",
            "execution_count": 87,
            "outputs": [
                {
                    "output_type": "execute_result",
                    "execution_count": 87,
                    "data": {
                        "text/plain": "array(['PAIDOFF', 'PAIDOFF', 'PAIDOFF', 'PAIDOFF', 'PAIDOFF'],\n      dtype=object)"
                    },
                    "metadata": {}
                }
            ]
        },
        {
            "metadata": {
                "button": false,
                "new_sheet": false,
                "run_control": {
                    "read_only": false
                }
            },
            "cell_type": "markdown",
            "source": "## Normalize Data "
        },
        {
            "metadata": {
                "button": false,
                "new_sheet": false,
                "run_control": {
                    "read_only": false
                }
            },
            "cell_type": "markdown",
            "source": "Data Standardization give data zero mean and unit variance (technically should be done after train test split )"
        },
        {
            "metadata": {
                "button": false,
                "new_sheet": false,
                "run_control": {
                    "read_only": false
                }
            },
            "cell_type": "code",
            "source": "warnings.filterwarnings('ignore')\nX= preprocessing.StandardScaler().fit(X).transform(X)\n",
            "execution_count": 88,
            "outputs": []
        },
        {
            "metadata": {},
            "cell_type": "markdown",
            "source": "## Split data into training ant testing sets"
        },
        {
            "metadata": {},
            "cell_type": "markdown",
            "source": "The function \"train_test_split\" in \"sklearn.model_selection\" is used to split the classification set in training and testing sets. "
        },
        {
            "metadata": {},
            "cell_type": "code",
            "source": "from sklearn.model_selection import train_test_split\n\n#Set random seed\nnp.random.seed(1)\n\n#Get the training and test sets\nX_train, X_test, y_train, y_test = train_test_split( X, y, test_size=0.3, random_state=4)\nprint ('Train set:', X_train.shape,  y_train.shape)\nprint ('Test set:', X_test.shape,  y_test.shape)",
            "execution_count": 89,
            "outputs": [
                {
                    "output_type": "stream",
                    "text": "Train set: (242, 8) (242,)\nTest set: (104, 8) (104,)\n",
                    "name": "stdout"
                }
            ]
        },
        {
            "metadata": {},
            "cell_type": "markdown",
            "source": "## Predictor subsets"
        },
        {
            "metadata": {},
            "cell_type": "markdown",
            "source": "In order to get the best classification model, all possible subsets of predictors will be tested, with a minimum of two predictors in each subset. All predictor combinations are generated below. A function to access column index in numpy arrays is also defined."
        },
        {
            "metadata": {},
            "cell_type": "code",
            "source": "#Combination of different predictors\ncolscomb = []\ncols = list(Feature.columns)\nfor L in range(1, len(cols)+1):\n    for subset in itertools.combinations(cols, L):\n        colscomb.append(list(subset))\n\nprint ('The number of different column combinations is:', len(colscomb))\ncol_np = np.array(colscomb)\n\n#Define the function to get column index based on the column(predictor) name in numpy arrays\ndef column_index(df, query_cols):\n    cols = df.columns.values\n    sidx = np.argsort(cols)\n    return sidx[np.searchsorted(cols,query_cols,sorter=sidx)]\n",
            "execution_count": 90,
            "outputs": [
                {
                    "output_type": "stream",
                    "text": "The number of different column combinations is: 255\n",
                    "name": "stdout"
                }
            ]
        },
        {
            "metadata": {
                "button": false,
                "new_sheet": false,
                "run_control": {
                    "read_only": false
                }
            },
            "cell_type": "markdown",
            "source": "# Classification "
        },
        {
            "metadata": {
                "button": false,
                "new_sheet": false,
                "run_control": {
                    "read_only": false
                }
            },
            "cell_type": "markdown",
            "source": "Now, it is your turn, use the training set to build an accurate model. Then use the test set to report the accuracy of the model\nYou should use the following algorithm:\n- K Nearest Neighbor(KNN)\n- Decision Tree\n- Support Vector Machine\n- Logistic Regression\n\n\n\n__ Notice:__ \n- You can go above and change the pre-processing, feature selection, feature-extraction, and so on, to make a better model.\n- You should use either scikit-learn, Scipy or Numpy libraries for developing the classification algorithms.\n- You should include the code of the algorithm in the following cells."
        },
        {
            "metadata": {},
            "cell_type": "markdown",
            "source": "# K Nearest Neighbor(KNN)\nNotice: You should find the best k to build the model with the best accuracy.  \n**warning:** You should not use the __loan_test.csv__ for finding the best k, however, you can split your train_loan.csv into train and test to find the best __k__."
        },
        {
            "metadata": {},
            "cell_type": "markdown",
            "source": "### Best k parameter"
        },
        {
            "metadata": {},
            "cell_type": "markdown",
            "source": "In order to find the best value for k, a loop is generated testing the accuracy scores for a range of k. A plot shows the distribution of the values. Highest accuracy points are highlighted in blue."
        },
        {
            "metadata": {},
            "cell_type": "code",
            "source": "from sklearn.neighbors import KNeighborsClassifier\n\n#Make a loop to test the best K, minimum K=3 and maximum k=30\nKmax=40\nacc_vec = np.zeros((Kmax-2))\nk_vec = np.arange(2,Kmax,1,dtype=int)\nlen(acc_vec)\nn=0\nfor k in range(2,Kmax):\n    neigh = KNeighborsClassifier(n_neighbors = k).fit(X_train,y_train)\n    yhat=neigh.predict(X_test)\n    acc_vec[n] = metrics.accuracy_score(y_test, yhat)\n    n= n+1\n\nbest_acc = acc_vec.max()\nbest_acc#0.75\ni=np.where(acc_vec == best_acc)\nprint('Best k values are:', k_vec[i])\n\nplt.plot(range(2,Kmax),acc_vec,'g')\nplt.plot(k_vec[i],acc_vec[i],'bo')\nplt.ylabel('Accuracy ')\nplt.xlabel('Number of Nabors (K)')\nplt.show()\n\nk_def=28",
            "execution_count": 91,
            "outputs": [
                {
                    "output_type": "stream",
                    "text": "Best k values are: [ 9 21 28]\n",
                    "name": "stdout"
                },
                {
                    "output_type": "display_data",
                    "data": {
                        "text/plain": "<Figure size 432x288 with 1 Axes>",
                        "image/png": "[encoded data removed]"
                    },
                    "metadata": {
                        "needs_background": "light"
                    }
                }
            ]
        },
        {
            "metadata": {},
            "cell_type": "markdown",
            "source": "There are three values giving the best accuracy, 9, 21 and 28. However, I choose to use 28 as in the distribution, accuracy values are high and constant after this point."
        },
        {
            "metadata": {},
            "cell_type": "markdown",
            "source": "### Best predictor variables"
        },
        {
            "metadata": {},
            "cell_type": "markdown",
            "source": "In order to build the best model, some predictor variables may be better than others. To select the best set of predictor variables, a loop is used below. There are two predictor sets that give the maximum accuracy, none of them contains the sex variable. I selected the first one to build the final model."
        },
        {
            "metadata": {},
            "cell_type": "code",
            "source": "acc_vec = np.zeros(len(col_np))\nfor s in range(8,len(col_np)):\n    ci=column_index(Feature,colscomb[s] )\n    X_sub=X_train[:,ci]\n    neigh = KNeighborsClassifier(n_neighbors = k_def).fit(X_sub,y_train)\n    \n    X_test_sub=X_test[:,ci]\n    yhat=neigh.predict(X_test_sub)\n    acc_vec[s] = metrics.accuracy_score(y_test, yhat)\n\n\nbest_acc = acc_vec.max()\ni=np.where(acc_vec == best_acc)\ncol_np[i]\n\nneigh_col=col_np[i][0]",
            "execution_count": 92,
            "outputs": []
        },
        {
            "metadata": {},
            "cell_type": "markdown",
            "source": "### Build the KNN model"
        },
        {
            "metadata": {},
            "cell_type": "markdown",
            "source": "Build the model with the parameters selected in previous sections."
        },
        {
            "metadata": {},
            "cell_type": "code",
            "source": "warnings.filterwarnings('ignore')\nX_def=Feature[neigh_col]\nX_def= preprocessing.StandardScaler().fit(X_def).transform(X_def)\nneigh = KNeighborsClassifier(n_neighbors = k_def).fit(X_def,y)\nprint('For K:',k_def,'Train set Accuracy: ', metrics.accuracy_score(y, neigh.predict(X_def)))",
            "execution_count": 93,
            "outputs": [
                {
                    "output_type": "stream",
                    "text": "For K: 28 Train set Accuracy:  0.7572254335260116\n",
                    "name": "stdout"
                }
            ]
        },
        {
            "metadata": {},
            "cell_type": "markdown",
            "source": "# Decision Tree"
        },
        {
            "metadata": {},
            "cell_type": "markdown",
            "source": "### Best max_depth parameter"
        },
        {
            "metadata": {},
            "cell_type": "markdown",
            "source": "A range of max_depth values will be tested to get the one giving the best accuracy. Best values are highlighted in blue in the plot. max_depth=6 was set as optimum value."
        },
        {
            "metadata": {
                "scrolled": true
            },
            "cell_type": "code",
            "source": "from sklearn.tree import DecisionTreeClassifier\n\nmaxD=40\nacc_vec = np.zeros(maxD-2)\nd_vec = np.arange(2,maxD,1,dtype=int)\nlen(acc_vec)\nn=0\nfor d in range(2,maxD):\n    modTree = DecisionTreeClassifier(criterion=\"gini\",max_depth = d)\n    modTree.fit(X_train,y_train)\n    yhat=modTree.predict(X_test)\n    acc_vec[n] = metrics.accuracy_score(y_test, yhat)\n    n= n+1\n\nbest_acc = acc_vec.max()\nbest_acc#0.7596153846153846\ni=np.where(acc_vec == best_acc)\n\nprint(\"The Max Depth that give best accuracy are:\",d_vec[i])\n\nplt.plot(d_vec,acc_vec,'g')\nplt.plot(d_vec[i],acc_vec[i],'bo')\nplt.ylabel('Accuracy ')\nplt.xlabel('Max depth parameter')\nplt.show()\n\nd_def=6",
            "execution_count": 94,
            "outputs": [
                {
                    "output_type": "stream",
                    "text": "The Max Depth that give best accuracy are: [5 6]\n",
                    "name": "stdout"
                },
                {
                    "output_type": "display_data",
                    "data": {
                        "text/plain": "<Figure size 432x288 with 1 Axes>",
                        "image/png": "[encoded data removed]"
                    },
                    "metadata": {
                        "needs_background": "light"
                    }
                }
            ]
        },
        {
            "metadata": {},
            "cell_type": "markdown",
            "source": "### Best predictor variables"
        },
        {
            "metadata": {},
            "cell_type": "markdown",
            "source": "As it has been done in the KNN model. All the subsets of predictor variables are tested in a loop. In this case, best accuracy can be reached with variables: 'terms', 'Gender', 'weekend', 'High School or Below' and 'college' "
        },
        {
            "metadata": {},
            "cell_type": "code",
            "source": "acc_vec = np.zeros(len(col_np))\nfor s in range(8,len(col_np)):\n    #print(s)\n    ci=column_index(Feature,colscomb[s])\n    X_sub=X_train[:,ci]\n    modTree = DecisionTreeClassifier(criterion=\"gini\", max_depth = d_def)\n    modTree.fit(X_sub,y_train)\n    \n    X_test_sub=X_test[:,ci]\n    yhat=modTree.predict(X_test_sub)\n    acc_vec[s] = metrics.accuracy_score(y_test, yhat)\n\n\nbest_acc = acc_vec.max()\nbest_acc#0.7692307692307693\ni=np.where(acc_vec == best_acc)\ncol_np[i]\n\nmodTree_col=col_np[i][0]\nmodTree_col",
            "execution_count": 95,
            "outputs": [
                {
                    "output_type": "execute_result",
                    "execution_count": 95,
                    "data": {
                        "text/plain": "['terms', 'Gender', 'weekend', 'High School or Below', 'college']"
                    },
                    "metadata": {}
                }
            ]
        },
        {
            "metadata": {},
            "cell_type": "markdown",
            "source": "### Build the Decision Tree model"
        },
        {
            "metadata": {},
            "cell_type": "markdown",
            "source": "With the optimum max_depth parameter and the subset of columns the final model is built:"
        },
        {
            "metadata": {},
            "cell_type": "code",
            "source": "X_def=Feature[modTree_col]\nX_def= preprocessing.StandardScaler().fit(X_def).transform(X_def)\nmodTree = DecisionTreeClassifier(criterion=\"gini\", max_depth = d_def)\nmodTree.fit(X_def,y)\nyhat=modTree.predict(X_def)\nprint('For depth:',d_def,'Train set Accuracy:', metrics.accuracy_score(y, yhat))",
            "execution_count": 96,
            "outputs": [
                {
                    "output_type": "stream",
                    "text": "For depth: 6 Train set Accuracy: 0.7687861271676301\n",
                    "name": "stdout"
                }
            ]
        },
        {
            "metadata": {},
            "cell_type": "markdown",
            "source": "# Support Vector Machine"
        },
        {
            "metadata": {},
            "cell_type": "markdown",
            "source": "### Best kernel parameter"
        },
        {
            "metadata": {},
            "cell_type": "markdown",
            "source": "Test all possible kernel parameters and choose the one that gives the best accuracy. As it is shown in the plot poly and rbf are optimum kernels. The default kernel \"rbf\" will be used."
        },
        {
            "metadata": {},
            "cell_type": "code",
            "source": "from sklearn import svm\n\nkern=np.array(['linear', 'poly', 'rbf', 'sigmoid'])\nacc_vec = np.zeros(len(kern))\nn=0\nfor d in range(0,len(kern)):\n    clf = svm.SVC(kernel=kern[d])\n    clf.fit(X_train, y_train) \n    yhat = clf.predict(X_test)\n    acc_vec[n] = metrics.accuracy_score(y_test, yhat)\n    print('For kernel:',kern[d],'Test set Accuracy: ', acc_vec[n])\n    n= n+1\n\n#Show accuracy results\ny_pos = np.arange(len(kern))\nplt.bar(y_pos, acc_vec, align='center', alpha=0.5)\nplt.xticks(y_pos, kern)\nplt.ylabel('Accuracy')\nplt.title('Kernel parameter')\nplt.show()\n\n#dir(acc_vec)\nbest_acc = acc_vec.max()\nbest_acc#0.75\ni=np.where(acc_vec == best_acc)\nkern[i]\n\nprint('Kernel parameters:',kern[i],'give the best accuracy:',best_acc)\n\nker_def='rbf'",
            "execution_count": 97,
            "outputs": [
                {
                    "output_type": "stream",
                    "text": "For kernel: linear Test set Accuracy:  0.7403846153846154\nFor kernel: poly Test set Accuracy:  0.75\nFor kernel: rbf Test set Accuracy:  0.75\nFor kernel: sigmoid Test set Accuracy:  0.7115384615384616\n",
                    "name": "stdout"
                },
                {
                    "output_type": "display_data",
                    "data": {
                        "text/plain": "<Figure size 432x288 with 1 Axes>",
                        "image/png": "[encoded data removed]"
                    },
                    "metadata": {
                        "needs_background": "light"
                    }
                },
                {
                    "output_type": "stream",
                    "text": "Kernel parameters: ['poly' 'rbf'] give the best accuracy: 0.75\n",
                    "name": "stdout"
                }
            ]
        },
        {
            "metadata": {},
            "cell_type": "markdown",
            "source": "### Best inverse regularization strength parameter"
        },
        {
            "metadata": {},
            "cell_type": "markdown",
            "source": "The optimum value for inverse regularization strength parameter is set to 1, as the default. "
        },
        {
            "metadata": {},
            "cell_type": "code",
            "source": "maxC=1\nc_vec = np.arange(0.01,maxC,0.01,dtype=float)\nacc_vec = np.zeros(len(c_vec))\nlen(acc_vec)\nn=0\nfor c in range(0,len(c_vec)):\n    clf = svm.SVC(C=c_vec[c],kernel=ker_def)\n    clf.fit(X_train, y_train) \n    yhat = clf.predict(X_test)\n    acc_vec[n] = metrics.accuracy_score(y_test, yhat)\n    n= n+1\n\n#Show results in a plot\nplt.plot(c_vec,acc_vec,'g')\nplt.ylabel('Accuracy ')\nplt.xlabel('Regularization parameter')\nplt.show()\n\nbest_acc = acc_vec.max()\nbest_acc#0.7596153846153846\ni=np.where(acc_vec == best_acc)\nc_vec[i]\n\nprint('Default C=1 gives accuracy:',best_acc)",
            "execution_count": 98,
            "outputs": [
                {
                    "output_type": "display_data",
                    "data": {
                        "text/plain": "<Figure size 432x288 with 1 Axes>",
                        "image/png": "[encoded data removed]"
                    },
                    "metadata": {
                        "needs_background": "light"
                    }
                },
                {
                    "output_type": "stream",
                    "text": "Default C=1 gives accuracy: 0.75\n",
                    "name": "stdout"
                }
            ]
        },
        {
            "metadata": {},
            "cell_type": "markdown",
            "source": "### Best predictor variables"
        },
        {
            "metadata": {},
            "cell_type": "markdown",
            "source": "In the case of SVM, all predictors can be used and give the best accuracy."
        },
        {
            "metadata": {},
            "cell_type": "code",
            "source": "acc_vec = np.zeros(len(col_np))\nfor s in range(8,len(col_np)):\n    ci=column_index(Feature,colscomb[s])\n    X_sub=X_train[:,ci]\n    clf = svm.SVC(C=1,kernel=ker_def)\n    clf.fit(X_sub, y_train) \n    \n    X_test_sub=X_test[:,ci]\n    yhat = clf.predict(X_test_sub)\n    acc_vec[s] = metrics.accuracy_score(y_test, yhat)\n\n\nbest_acc = acc_vec.max()\nbest_acc#0.75\ni=np.where(acc_vec == best_acc)\n\nprint('There are',len(col_np[i]),' subsets of predictors giving the best accuracy, these are:',col_np[i])\n",
            "execution_count": 99,
            "outputs": [
                {
                    "output_type": "stream",
                    "text": "There are 27  subsets of predictors giving the best accuracy, these are: [list(['Principal', 'age', 'weekend', 'college'])\n list(['Principal', 'Gender', 'weekend', 'Bechalor'])\n list(['terms', 'Gender', 'weekend', 'Bechalor'])\n list(['Principal', 'terms', 'age', 'weekend', 'Bechalor'])\n list(['Principal', 'terms', 'Gender', 'weekend', 'Bechalor'])\n list(['Principal', 'age', 'Gender', 'weekend', 'Bechalor'])\n list(['Principal', 'age', 'weekend', 'Bechalor', 'High School or Below'])\n list(['Principal', 'age', 'weekend', 'Bechalor', 'college'])\n list(['Principal', 'Gender', 'weekend', 'Bechalor', 'High School or Below'])\n list(['Principal', 'Gender', 'weekend', 'Bechalor', 'college'])\n list(['terms', 'age', 'Gender', 'weekend', 'High School or Below'])\n list(['terms', 'Gender', 'weekend', 'Bechalor', 'High School or Below'])\n list(['terms', 'Gender', 'weekend', 'Bechalor', 'college'])\n list(['Principal', 'terms', 'age', 'Gender', 'weekend', 'Bechalor'])\n list(['Principal', 'terms', 'age', 'weekend', 'Bechalor', 'High School or Below'])\n list(['Principal', 'terms', 'age', 'weekend', 'Bechalor', 'college'])\n list(['Principal', 'terms', 'Gender', 'weekend', 'Bechalor', 'High School or Below'])\n list(['Principal', 'terms', 'Gender', 'weekend', 'Bechalor', 'college'])\n list(['Principal', 'age', 'Gender', 'weekend', 'Bechalor', 'college'])\n list(['Principal', 'age', 'weekend', 'Bechalor', 'High School or Below', 'college'])\n list(['Principal', 'Gender', 'weekend', 'Bechalor', 'High School or Below', 'college'])\n list(['terms', 'Gender', 'weekend', 'Bechalor', 'High School or Below', 'college'])\n list(['Principal', 'terms', 'age', 'Gender', 'weekend', 'Bechalor', 'High School or Below'])\n list(['Principal', 'terms', 'age', 'Gender', 'weekend', 'Bechalor', 'college'])\n list(['Principal', 'terms', 'age', 'weekend', 'Bechalor', 'High School or Below', 'college'])\n list(['Principal', 'terms', 'Gender', 'weekend', 'Bechalor', 'High School or Below', 'college'])\n list(['Principal', 'terms', 'age', 'Gender', 'weekend', 'Bechalor', 'High School or Below', 'college'])]\n",
                    "name": "stdout"
                }
            ]
        },
        {
            "metadata": {},
            "cell_type": "markdown",
            "source": "### Build the SVM model"
        },
        {
            "metadata": {},
            "cell_type": "code",
            "source": "clf = svm.SVC(C=1,kernel=ker_def)\nclf.fit(X, y) \nyhat=clf.predict(X)\nprint('For kernel',ker_def,', training set Accuracy is:', metrics.accuracy_score(y, yhat))",
            "execution_count": 100,
            "outputs": [
                {
                    "output_type": "stream",
                    "text": "For kernel rbf , training set Accuracy is: 0.7601156069364162\n",
                    "name": "stdout"
                }
            ]
        },
        {
            "metadata": {},
            "cell_type": "markdown",
            "source": "# Logistic Regression"
        },
        {
            "metadata": {},
            "cell_type": "markdown",
            "source": "### Best solver parameter"
        },
        {
            "metadata": {},
            "cell_type": "markdown",
            "source": "In the case of logistic regression, accuracy and logLoss will be used to find the best parameters. Different from accuracy measure low Log Loss means a low uncertainty/entropy in the model. The sover with better accuracy and lolLoss scores was \"saga\"."
        },
        {
            "metadata": {},
            "cell_type": "code",
            "source": "from sklearn.linear_model import LogisticRegression\nfrom sklearn.metrics import log_loss\n\nsolv=np.array(['newton-cg', 'lbfgs', 'liblinear', 'sag', 'saga'])\nacc_vec = np.zeros(len(solv))\nloss_vec= np.zeros(len(solv))\n\nfor d in range(0,len(solv)):\n    LR = LogisticRegression(C=0.01, solver=solv[d]).fit(X_train,y_train)\n    yhat = LR.predict(X_test)\n    acc_vec[d] = metrics.accuracy_score(y_test, yhat)\n    yhat_prob = LR.predict_proba(X_test)\n    loss_vec[d] = log_loss(y_test, yhat_prob)\n\n#Show accuracy results\ny_pos = np.arange(len(solv))\nplt.bar(y_pos, acc_vec, align='center', alpha=0.5)\nplt.xticks(y_pos, solv)\nplt.ylabel('Accuracy')\nplt.title('Solver parameter')\nplt.show()\n\nbest_acc = acc_vec.max()\nbest_acc#0.7403846153846154\na=np.where(acc_vec == best_acc)\nsolv[a]\nprint('Best accuracy',best_acc ,'is obtained with solver parameters:',solv[a])\n\n#Show loss results\ny_pos = np.arange(len(solv))\nplt.bar(y_pos, loss_vec, align='center', alpha=0.5)\nplt.xticks(y_pos, solv)\nplt.ylabel('Logloss')\nplt.title('Solver parameter')\nplt.show()\n\nbest_loss = loss_vec.min()\nbest_loss#0.5225834560738991\nl=np.where(loss_vec == best_loss)\nsolv[l]\nprint('Best logLoss',best_loss ,'is obtained with solver parameters:',solv[l])\n\n#Best method is the intersection of both\nsolv_def=np.intersect1d(solv[a], solv[l])[0]\nprint('Using accuracy and logLoss scores, the best solver is:',solv_def)",
            "execution_count": 101,
            "outputs": [
                {
                    "output_type": "display_data",
                    "data": {
                        "text/plain": "<Figure size 432x288 with 1 Axes>",
                        "image/png": "[encoded data removed]"
                    },
                    "metadata": {
                        "needs_background": "light"
                    }
                },
                {
                    "output_type": "stream",
                    "text": "Best accuracy 0.7403846153846154 is with solver parameters: ['newton-cg' 'lbfgs' 'sag' 'saga']\n",
                    "name": "stdout"
                },
                {
                    "output_type": "display_data",
                    "data": {
                        "text/plain": "<Figure size 432x288 with 1 Axes>",
                        "image/png": "[encoded data removed]"
                    },
                    "metadata": {
                        "needs_background": "light"
                    }
                },
                {
                    "output_type": "stream",
                    "text": "Best logLoss 0.52258817863813 is with solver parameters: ['sag']\nUsing accuracy and logLoss scores, the best solver is: sag\n",
                    "name": "stdout"
                }
            ]
        },
        {
            "metadata": {},
            "cell_type": "markdown",
            "source": "### Best regularization strength parameter"
        },
        {
            "metadata": {},
            "cell_type": "markdown",
            "source": "Different regularization strength parameters are tested."
        },
        {
            "metadata": {},
            "cell_type": "code",
            "source": "c_vec = np.arange(0.0001, 0.1, 0.0001,dtype=float)\nacc_vec = np.zeros(len(c_vec))\nloss_vec= np.zeros(len(c_vec))\nfor c in range(0,len(c_vec)):\n    LR = LogisticRegression(C=c_vec[c], solver=solv_def).fit(X_train,y_train)\n    yhat = LR.predict(X_test)\n    acc_vec[c] = metrics.accuracy_score(y_test, yhat)\n    yhat_prob = LR.predict_proba(X_test)\n    loss_vec[c] = log_loss(y_test, yhat_prob)\n\n   \nplt.plot(c_vec,acc_vec,'g')\nplt.ylabel('Accuracy ')\nplt.xlabel('Regularization parameter')\nplt.show()\n\nplt.plot(c_vec,loss_vec,'g')\nplt.ylabel('LogLoss')\nplt.xlabel('Regularization parameter')\nplt.show()\n\nprint('Based on LogLoss and accuracy parameters, the consensus value for C would be around 0.08')\nc_def=0.08",
            "execution_count": 102,
            "outputs": [
                {
                    "output_type": "display_data",
                    "data": {
                        "text/plain": "<Figure size 432x288 with 1 Axes>",
                        "image/png": "[encoded data removed]"
                    },
                    "metadata": {
                        "needs_background": "light"
                    }
                },
                {
                    "output_type": "display_data",
                    "data": {
                        "text/plain": "<Figure size 432x288 with 1 Axes>",
                        "image/png": "[encoded data removed]"
                    },
                    "metadata": {
                        "needs_background": "light"
                    }
                },
                {
                    "output_type": "stream",
                    "text": "Based on LogLoss and accuracy parameters, the consensus value for C would be around 0.08\n",
                    "name": "stdout"
                }
            ]
        },
        {
            "metadata": {},
            "cell_type": "markdown",
            "source": "### Best predictor variables"
        },
        {
            "metadata": {},
            "cell_type": "markdown",
            "source": "The best predictors, based on the logLoss and accuracy measures are used to build the final model."
        },
        {
            "metadata": {},
            "cell_type": "code",
            "source": "\nacc_vec = np.zeros(len(col_np))\nloss_vec= np.ones(len(col_np))\nfor s in range(8,len(col_np)):\n    #print(s)\n    ci=column_index(Feature,colscomb[s])\n    X_sub=X_train[:,ci]\n    LR = LogisticRegression(C=c_def, solver=solv_def).fit(X_sub,y_train)\n    X_test_sub=X_test[:,ci]\n    yhat = LR.predict(X_test_sub)\n    yhat_prob = LR.predict_proba(X_test_sub)\n    \n    acc_vec[s] = metrics.accuracy_score(y_test, yhat)\n    loss_vec[s] = log_loss(y_test, yhat_prob)\n\nbest_acc = acc_vec.max()\nbest_acc#0.7403846153846154\nprint('Best accuracy found is:',best_acc)\na=np.where(acc_vec == best_acc)\n\nbest_loss = loss_vec.min()\nbest_loss#0.46328159211448106\nprint('Best LogLoss found is:',best_loss)\nl=np.where(loss_vec == best_loss)\n\nintrsct = np.intersect1d(col_np[a], col_np[l])\nprint('Columns with best accuracy and logLoss are:',intrsct[0])\n\nLR_col=intrsct[0]\n",
            "execution_count": 103,
            "outputs": [
                {
                    "output_type": "stream",
                    "text": "Best accuracy found is: 0.7403846153846154\nBest LogLoss found is: 0.4632801649609096\nColumns with best accuracy and logLoss are: ['terms', 'Gender', 'weekend', 'Bechalor', 'High School or Below']\n",
                    "name": "stdout"
                }
            ]
        },
        {
            "metadata": {},
            "cell_type": "markdown",
            "source": "### Build the Logistic regression model"
        },
        {
            "metadata": {},
            "cell_type": "code",
            "source": "X_def=Feature[LR_col]\nX_def= preprocessing.StandardScaler().fit(X_def).transform(X_def)\nLR = LogisticRegression(C=c_def, solver=solv_def).fit(X_def,y)\n\nyhat = LR.predict(X_def)\nyhat_prob = LR.predict_proba(X_def)\n\nprint('Train set Accuracy:', metrics.accuracy_score(y, yhat))\nprint('Train set LogLoss:', log_loss(y, yhat_prob))",
            "execution_count": 104,
            "outputs": [
                {
                    "output_type": "stream",
                    "text": "Train set Accuracy: 0.7514450867052023\nTrain set LogLoss: 0.4444414656541971\n",
                    "name": "stdout"
                }
            ]
        },
        {
            "metadata": {},
            "cell_type": "markdown",
            "source": "# Model Evaluation using Test set"
        },
        {
            "metadata": {},
            "cell_type": "code",
            "source": "from sklearn.metrics import jaccard_similarity_score\nfrom sklearn.metrics import f1_score\nfrom sklearn.metrics import log_loss",
            "execution_count": 105,
            "outputs": []
        },
        {
            "metadata": {},
            "cell_type": "markdown",
            "source": "First, download and load the test set:"
        },
        {
            "metadata": {},
            "cell_type": "code",
            "source": "!wget -O loan_test.csv https://s3-api.us-geo.objectstorage.softlayer.net/cf-courses-data/CognitiveClass/ML0101ENv3/labs/loan_test.csv",
            "execution_count": 106,
            "outputs": [
                {
                    "output_type": "stream",
                    "text": "--2020-04-28 08:20:23--  https://s3-api.us-geo.objectstorage.softlayer.net/cf-courses-data/CognitiveClass/ML0101ENv3/labs/loan_test.csv\nResolving s3-api.us-geo.objectstorage.softlayer.net (s3-api.us-geo.objectstorage.softlayer.net)... 67.228.254.196\nConnecting to s3-api.us-geo.objectstorage.softlayer.net (s3-api.us-geo.objectstorage.softlayer.net)|67.228.254.196|:443... connected.\nHTTP request sent, awaiting response... 200 OK\nLength: 3642 (3.6K) [text/csv]\nSaving to: \u2018loan_test.csv\u2019\n\n100%[======================================>] 3,642       --.-K/s   in 0s      \n\n2020-04-28 08:20:23 (311 MB/s) - \u2018loan_test.csv\u2019 saved [3642/3642]\n\n",
                    "name": "stdout"
                }
            ]
        },
        {
            "metadata": {
                "button": false,
                "new_sheet": false,
                "run_control": {
                    "read_only": false
                }
            },
            "cell_type": "markdown",
            "source": "### Load Test set for evaluation "
        },
        {
            "metadata": {
                "button": false,
                "new_sheet": false,
                "run_control": {
                    "read_only": false
                }
            },
            "cell_type": "code",
            "source": "test_df = pd.read_csv('loan_test.csv')\ntest_df.head()",
            "execution_count": 114,
            "outputs": [
                {
                    "output_type": "execute_result",
                    "execution_count": 114,
                    "data": {
                        "text/plain": "   Unnamed: 0  Unnamed: 0.1 loan_status  Principal  terms effective_date  \\\n0           1             1     PAIDOFF       1000     30       9/8/2016   \n1           5             5     PAIDOFF        300      7       9/9/2016   \n2          21            21     PAIDOFF       1000     30      9/10/2016   \n3          24            24     PAIDOFF       1000     30      9/10/2016   \n4          35            35     PAIDOFF        800     15      9/11/2016   \n\n    due_date  age             education  Gender  \n0  10/7/2016   50              Bechalor  female  \n1  9/15/2016   35       Master or Above    male  \n2  10/9/2016   43  High School or Below  female  \n3  10/9/2016   26               college    male  \n4  9/25/2016   29              Bechalor    male  ",
                        "text/html": "<div>\n<style scoped>\n    .dataframe tbody tr th:only-of-type {\n        vertical-align: middle;\n    }\n\n    .dataframe tbody tr th {\n        vertical-align: top;\n    }\n\n    .dataframe thead th {\n        text-align: right;\n    }\n</style>\n<table border=\"1\" class=\"dataframe\">\n  <thead>\n    <tr style=\"text-align: right;\">\n      <th></th>\n      <th>Unnamed: 0</th>\n      <th>Unnamed: 0.1</th>\n      <th>loan_status</th>\n      <th>Principal</th>\n      <th>terms</th>\n      <th>effective_date</th>\n      <th>due_date</th>\n      <th>age</th>\n      <th>education</th>\n      <th>Gender</th>\n    </tr>\n  </thead>\n  <tbody>\n    <tr>\n      <th>0</th>\n      <td>1</td>\n      <td>1</td>\n      <td>PAIDOFF</td>\n      <td>1000</td>\n      <td>30</td>\n      <td>9/8/2016</td>\n      <td>10/7/2016</td>\n      <td>50</td>\n      <td>Bechalor</td>\n      <td>female</td>\n    </tr>\n    <tr>\n      <th>1</th>\n      <td>5</td>\n      <td>5</td>\n      <td>PAIDOFF</td>\n      <td>300</td>\n      <td>7</td>\n      <td>9/9/2016</td>\n      <td>9/15/2016</td>\n      <td>35</td>\n      <td>Master or Above</td>\n      <td>male</td>\n    </tr>\n    <tr>\n      <th>2</th>\n      <td>21</td>\n      <td>21</td>\n      <td>PAIDOFF</td>\n      <td>1000</td>\n      <td>30</td>\n      <td>9/10/2016</td>\n      <td>10/9/2016</td>\n      <td>43</td>\n      <td>High School or Below</td>\n      <td>female</td>\n    </tr>\n    <tr>\n      <th>3</th>\n      <td>24</td>\n      <td>24</td>\n      <td>PAIDOFF</td>\n      <td>1000</td>\n      <td>30</td>\n      <td>9/10/2016</td>\n      <td>10/9/2016</td>\n      <td>26</td>\n      <td>college</td>\n      <td>male</td>\n    </tr>\n    <tr>\n      <th>4</th>\n      <td>35</td>\n      <td>35</td>\n      <td>PAIDOFF</td>\n      <td>800</td>\n      <td>15</td>\n      <td>9/11/2016</td>\n      <td>9/25/2016</td>\n      <td>29</td>\n      <td>Bechalor</td>\n      <td>male</td>\n    </tr>\n  </tbody>\n</table>\n</div>"
                    },
                    "metadata": {}
                }
            ]
        },
        {
            "metadata": {},
            "cell_type": "markdown",
            "source": "### Pre-processing of Test set"
        },
        {
            "metadata": {},
            "cell_type": "code",
            "source": "test_df['due_date'] = pd.to_datetime(test_df['due_date'])\ntest_df['effective_date'] = pd.to_datetime(test_df['effective_date'])\ntest_df['dayofweek'] = test_df['effective_date'].dt.dayofweek\ntest_df['weekend'] = test_df['dayofweek'].apply(lambda x: 1 if (x>3)  else 0)\ntest_df['Gender'].replace(to_replace=['male','female'], value=[0,1],inplace=True)\n#Convert the variable education\nFeature_test = test_df[['Principal','terms','age','Gender','weekend']]\nFeature_test = pd.concat([Feature_test,pd.get_dummies(test_df['education'])], axis=1)\nFeature_test.drop(['Master or Above'], axis = 1,inplace=True)\nprint('The size of the feature test set is:', Feature_test.shape)\n#Select labels\ny_Test = test_df['loan_status'].values\nprint('The size of the labels in the test set is:', y_Test.shape)",
            "execution_count": 115,
            "outputs": [
                {
                    "output_type": "stream",
                    "text": "The size of the feature test set is: (54, 8)\nThe size of the labels in the test set is: (54,)\n",
                    "name": "stdout"
                }
            ]
        },
        {
            "metadata": {},
            "cell_type": "markdown",
            "source": "## KNN evaluation"
        },
        {
            "metadata": {},
            "cell_type": "code",
            "source": "#Predict with the test dataset\nX_knn_test = Feature_test[neigh_col]\nX_knn_test = preprocessing.StandardScaler().fit(X_knn_test).transform(X_knn_test.astype(float))\nyhat = neigh.predict(X_knn_test)\n#Evaluate the model\nprint(\"Jaccard similarity score is: \", jaccard_similarity_score(y_Test, yhat))\nprint(\"f1 score is: \",f1_score(y_Test, yhat, average='weighted'))",
            "execution_count": 109,
            "outputs": [
                {
                    "output_type": "stream",
                    "text": "Jaccard similarity score is:  0.8333333333333334\nf1 score is:  0.8122605363984674\n",
                    "name": "stdout"
                }
            ]
        },
        {
            "metadata": {},
            "cell_type": "markdown",
            "source": "## Decision Tree evaluation"
        },
        {
            "metadata": {},
            "cell_type": "code",
            "source": "#Predict with the test dataset\nX_mt_test = Feature_test[modTree_col]\nX_mt_test = preprocessing.StandardScaler().fit(X_mt_test).transform(X_mt_test.astype(float))\nyhat=modTree.predict(X_mt_test)\n#Evaluate the model\nprint(\"Jaccard similarity score is: \", jaccard_similarity_score(y_Test, yhat))\nprint(\"f1 score is: \",f1_score(y_Test, yhat, average='weighted'))",
            "execution_count": 110,
            "outputs": [
                {
                    "output_type": "stream",
                    "text": "Jaccard similarity score is:  0.7592592592592593\nf1 score is:  0.7401723974614001\n",
                    "name": "stdout"
                }
            ]
        },
        {
            "metadata": {},
            "cell_type": "markdown",
            "source": "## Suport Vector Machine evaluation"
        },
        {
            "metadata": {},
            "cell_type": "code",
            "source": "#Predict with the test dataset\nX_svm_test=Feature_test\nX_svm_test = preprocessing.StandardScaler().fit(X_svm_test).transform(X_svm_test.astype(float))\nyhat=clf.predict(X_svm_test)\n#Evaluate the model\nprint(\"Jaccard similarity score is: \", jaccard_similarity_score(y_Test, yhat))\nprint(\"f1 score is: \",f1_score(y_Test, yhat, average='weighted'))",
            "execution_count": 111,
            "outputs": [
                {
                    "output_type": "stream",
                    "text": "Jaccard similarity score is:  0.7222222222222222\nf1 score is:  0.6212664277180406\n",
                    "name": "stdout"
                }
            ]
        },
        {
            "metadata": {},
            "cell_type": "markdown",
            "source": "## Logistic regression evaluation"
        },
        {
            "metadata": {},
            "cell_type": "code",
            "source": "#Predict with the test dataset\nX_lr_test = Feature_test[LR_col]\nX_lr_test = preprocessing.StandardScaler().fit(X_lr_test).transform(X_lr_test.astype(float))\nyhat = LR.predict(X_lr_test)\nyhat_prob = LR.predict_proba(X_lr_test)\n#Evaluate the model\nprint(\"Jaccard similarity score is: \", jaccard_similarity_score(y_Test, yhat))\nprint(\"f1 score is: \",f1_score(y_Test, yhat, average='weighted'))\nprint('LogLoss score is:', log_loss(y_Test, yhat_prob))",
            "execution_count": 112,
            "outputs": [
                {
                    "output_type": "stream",
                    "text": "Jaccard similarity score is:  0.7407407407407407\nf1 score is:  0.6304176516942475\nLogLoss score is: 0.4804971403452501\n",
                    "name": "stdout"
                }
            ]
        },
        {
            "metadata": {},
            "cell_type": "markdown",
            "source": "# Report\nYou should be able to report the accuracy of the built model using different evaluation metrics:"
        },
        {
            "metadata": {},
            "cell_type": "markdown",
            "source": "| Algorithm          | Jaccard | F1-score | LogLoss |\n|--------------------|---------|----------|---------|\n| KNN                | 0.8333 | 0.8122  | NA      |\n| Decision Tree      | 0.7592       | 0.7401        | NA      |\n| SVM                | 0.7222       | 0.6212        | NA      |\n| LogisticRegression | 0.7407       | 0.6304        | 0.4805       |"
        },
        {
            "metadata": {
                "button": false,
                "new_sheet": false,
                "run_control": {
                    "read_only": false
                }
            },
            "cell_type": "markdown",
            "source": "<h2>Want to learn more?</h2>\n\nIBM SPSS Modeler is a comprehensive analytics platform that has many machine learning algorithms. It has been designed to bring predictive intelligence to decisions made by individuals, by groups, by systems \u2013 by your enterprise as a whole. A free trial is available through this course, available here: <a href=\"http://cocl.us/ML0101EN-SPSSModeler\">SPSS Modeler</a>\n\nAlso, you can use Watson Studio to run these notebooks faster with bigger datasets. Watson Studio is IBM's leading cloud solution for data scientists, built by data scientists. With Jupyter notebooks, RStudio, Apache Spark and popular libraries pre-packaged in the cloud, Watson Studio enables data scientists to collaborate on their projects without having to install anything. Join the fast-growing community of Watson Studio users today with a free account at <a href=\"https://cocl.us/ML0101EN_DSX\">Watson Studio</a>\n\n<h3>Thanks for completing this lesson!</h3>\n\n<h4>Author:  <a href=\"https://ca.linkedin.com/in/saeedaghabozorgi\">Saeed Aghabozorgi</a></h4>\n<p><a href=\"https://ca.linkedin.com/in/saeedaghabozorgi\">Saeed Aghabozorgi</a>, PhD is a Data Scientist in IBM with a track record of developing enterprise level applications that substantially increases clients\u2019 ability to turn data into actionable knowledge. He is a researcher in data mining field and expert in developing advanced analytic methods like machine learning and statistical modelling on large datasets.</p>\n\n<hr>\n\n<p>Copyright &copy; 2018 <a href=\"https://cocl.us/DX0108EN_CC\">Cognitive Class</a>. This notebook and its source code are released under the terms of the <a href=\"https://bigdatauniversity.com/mit-license/\">MIT License</a>.</p>"
        },
        {
            "metadata": {},
            "cell_type": "code",
            "source": "",
            "execution_count": null,
            "outputs": []
        }
    ],
    "metadata": {
        "kernelspec": {
            "name": "python3",
            "display_name": "Python 3.6",
            "language": "python"
        },
        "language_info": {
            "name": "python",
            "version": "3.6.9",
            "mimetype": "text/x-python",
            "codemirror_mode": {
                "name": "ipython",
                "version": 3
            },
            "pygments_lexer": "ipython3",
            "nbconvert_exporter": "python",
            "file_extension": ".py"
        }
    },
    "nbformat": 4,
    "nbformat_minor": 2
}